{
 "cells": [
  {
   "cell_type": "markdown",
   "metadata": {
    "collapsed": true
   },
   "source": [
    "# Insurance Claim Prediction\n"
   ]
  },
  {
   "cell_type": "markdown",
   "metadata": {},
   "source": [
    "## Load the data\n",
    "This section loads the dataset and prints the first 5 entries."
   ]
  },
  {
   "cell_type": "code",
   "execution_count": 1,
   "metadata": {
    "collapsed": false
   },
   "outputs": [
    {
     "name": "stdout",
     "output_type": "stream",
     "text": [
      "  cat1 cat2 cat3 cat4 cat5 cat6 cat7 cat8 cat9 cat10    ...        cont5  \\\n",
      "0    A    B    A    B    A    A    A    A    B     A    ...     0.310061   \n",
      "1    A    B    A    A    A    A    A    A    B     B    ...     0.885834   \n",
      "2    A    B    A    A    B    A    A    A    B     B    ...     0.397069   \n",
      "3    B    B    A    B    A    A    A    A    B     A    ...     0.422268   \n",
      "4    A    B    A    B    A    A    A    A    B     B    ...     0.704268   \n",
      "\n",
      "      cont6     cont7    cont8    cont9   cont10    cont11    cont12  \\\n",
      "0  0.718367  0.335060  0.30260  0.67135  0.83510  0.569745  0.594646   \n",
      "1  0.438917  0.436585  0.60087  0.35127  0.43919  0.338312  0.366307   \n",
      "2  0.289648  0.315545  0.27320  0.26076  0.32446  0.381398  0.373424   \n",
      "3  0.440945  0.391128  0.31796  0.32128  0.44467  0.327915  0.321570   \n",
      "4  0.178193  0.247408  0.24564  0.22089  0.21230  0.204687  0.202213   \n",
      "\n",
      "     cont13    cont14  \n",
      "0  0.822493  0.714843  \n",
      "1  0.611431  0.304496  \n",
      "2  0.195709  0.774425  \n",
      "3  0.605077  0.602642  \n",
      "4  0.246011  0.432606  \n",
      "\n",
      "[5 rows x 130 columns]\n"
     ]
    }
   ],
   "source": [
    "import numpy as np\n",
    "import pandas as pd\n",
    "import matplotlib.pyplot as plt\n",
    "\n",
    "# Pretty display for notebooks\n",
    "%matplotlib inline\n",
    "\n",
    "\n",
    "# Load the provided datasets\n",
    "data = pd.read_csv('data/train.csv')\n",
    "claims = data['loss']\n",
    "features = data.drop(['id','loss'], axis = 1)\n",
    "\n",
    "print features.head()"
   ]
  },
  {
   "cell_type": "markdown",
   "metadata": {
    "collapsed": true
   },
   "source": [
    "## Explore the Data\n",
    "To get a better understanding of the provided data, some analysis and visualization is provided.\n",
    "### Statistical Analysis\n",
    "This section shall detail some of the statistical properties of the target feature."
   ]
  },
  {
   "cell_type": "code",
   "execution_count": 2,
   "metadata": {
    "collapsed": false
   },
   "outputs": [
    {
     "name": "stdout",
     "output_type": "stream",
     "text": [
      "Statistics for Insurence claims dataset:\n",
      "\n",
      "Minimum claim: $0.67\n",
      "Maximum claim: $121,012.25\n",
      "Mean claim: $3,037.34\n",
      "Median claim $2,115.57\n",
      "25% percentile $1,204.46\n",
      "50% percentile $2,115.57\n",
      "75% percentile $3,864.05\n",
      "Standard deviation of claims: $2,904.08\n"
     ]
    }
   ],
   "source": [
    "#Minimum claim of the data\n",
    "minimum_claim = np.amin(claims)\n",
    "\n",
    "#Maximum claim of the data\n",
    "maximum_claim = np.amax(claims)\n",
    "\n",
    "#Mean claim of the data\n",
    "mean_claim = np.mean(claims)\n",
    "\n",
    "#Median price of the data\n",
    "median_claim = np.median(claims)\n",
    "\n",
    "#25% Quantile\n",
    "percentile_25 = np.percentile(claims, 25)\n",
    "\n",
    "#50% Percentile\n",
    "percentile_50 = np.percentile(claims, 50)\n",
    "\n",
    "#75% Quantile\n",
    "percentile_75 = np.percentile(claims, 75)\n",
    "\n",
    "#Standard deviation of the claims in the data\n",
    "std_claim = np.std(claims)\n",
    "\n",
    "# Show the calculated statistics\n",
    "print \"Statistics for Insurence claims dataset:\\n\"\n",
    "print \"Minimum claim: ${:,.2f}\".format(minimum_claim)\n",
    "print \"Maximum claim: ${:,.2f}\".format(maximum_claim)\n",
    "print \"Mean claim: ${:,.2f}\".format(mean_claim)\n",
    "print \"Median claim ${:,.2f}\".format(median_claim)\n",
    "print \"25% percentile ${:,.2f}\".format(percentile_25)\n",
    "print \"50% percentile ${:,.2f}\".format(percentile_50)\n",
    "print \"75% percentile ${:,.2f}\".format(percentile_75)\n",
    "print \"Standard deviation of claims: ${:,.2f}\".format(std_claim)"
   ]
  },
  {
   "cell_type": "markdown",
   "metadata": {},
   "source": [
    "This information helps to give context to future predictions. Also the Minimum of \\$0.67 and Maximum of \\$121,012.25, are already showing that some outliers will have to be removed."
   ]
  },
  {
   "cell_type": "markdown",
   "metadata": {},
   "source": [
    "### Visualizing the Data"
   ]
  },
  {
   "cell_type": "markdown",
   "metadata": {},
   "source": [
    "A scatterplot matrix helps to get a better understanding of the data.\n",
    "For performance reasons, the data is split to only contain the first 500 points. **It might still take a while to compute!**"
   ]
  },
  {
   "cell_type": "code",
   "execution_count": null,
   "metadata": {
    "collapsed": false
   },
   "outputs": [],
   "source": [
    "scatterdata = data[:500].drop(\"id\", axis = 1)\n",
    "\n",
    "pd.scatter_matrix(scatterdata, alpha = 0.3, figsize = (14,8), diagonal = 'kde');"
   ]
  },
  {
   "cell_type": "markdown",
   "metadata": {},
   "source": [
    "One can already see correlations, that can be used to trim down the dataset using feature selection. Most notably are cont11 <-> cont12, which seem to correlate strictly linearly. Some other correlations can also be seen, but not as clearly, like cont1 <-> cont9."
   ]
  },
  {
   "cell_type": "markdown",
   "metadata": {},
   "source": [
    "This is the scatterplot matrix over **ALL** the datapoints:"
   ]
  },
  {
   "cell_type": "markdown",
   "metadata": {},
   "source": [
    "<img src=\"files/img/scatterplot_all.png\">"
   ]
  },
  {
   "cell_type": "markdown",
   "metadata": {},
   "source": [
    " It can be produced by the following code:\n",
    "\n",
    "**THIS WILL TAKE QUITE A LONG TIME**"
   ]
  },
  {
   "cell_type": "code",
   "execution_count": null,
   "metadata": {
    "collapsed": false
   },
   "outputs": [],
   "source": [
    "#Activate if wished. Again: This will be slow\n",
    "if False:\n",
    "    pd.scatter_matrix(data.drop('id', axis = 1), alpha = 0.3, figsize = (14,8), diagonal = 'kde');"
   ]
  },
  {
   "cell_type": "markdown",
   "metadata": {},
   "source": [
    "The scatterplot matrix also shows the right skewedness of the target feature 'loss':"
   ]
  },
  {
   "cell_type": "code",
   "execution_count": null,
   "metadata": {
    "collapsed": false
   },
   "outputs": [],
   "source": [
    "claims.plot.kde()"
   ]
  },
  {
   "cell_type": "markdown",
   "metadata": {},
   "source": [
    "## Preprocessing\n",
    "### Normalization"
   ]
  },
  {
   "cell_type": "markdown",
   "metadata": {},
   "source": [
    "The target feature needs to be normalized for the regression model to yield the best results possible."
   ]
  },
  {
   "cell_type": "code",
   "execution_count": 3,
   "metadata": {
    "collapsed": false
   },
   "outputs": [
    {
     "data": {
      "text/plain": [
       "<matplotlib.axes._subplots.AxesSubplot at 0x2b399b0>"
      ]
     },
     "execution_count": 3,
     "metadata": {},
     "output_type": "execute_result"
    },
    {
     "data": {
      "image/png": "[encoded data removed]",
      "text/plain": [
       "<matplotlib.figure.Figure at 0x834de48>"
      ]
     },
     "metadata": {},
     "output_type": "display_data"
    }
   ],
   "source": [
    "claims_normalized = np.log(claims)\n",
    "\n",
    "claims_normalized.plot.kde()"
   ]
  },
  {
   "cell_type": "markdown",
   "metadata": {},
   "source": [
    "The categorical features need to be label encoded and then one hot encoded."
   ]
  },
  {
   "cell_type": "code",
   "execution_count": 4,
   "metadata": {
    "collapsed": false
   },
   "outputs": [
    {
     "name": "stdout",
     "output_type": "stream",
     "text": [
      "   cat1  cat2  cat3  cat4  cat5  cat6  cat7  cat8  cat9  cat10    ...     \\\n",
      "0     0     1     0     1     0     0     0     0     1      0    ...      \n",
      "1     0     1     0     0     0     0     0     0     1      1    ...      \n",
      "2     0     1     0     0     1     0     0     0     1      1    ...      \n",
      "3     1     1     0     1     0     0     0     0     1      0    ...      \n",
      "4     0     1     0     1     0     0     0     0     1      1    ...      \n",
      "\n",
      "      cont5     cont6     cont7    cont8    cont9   cont10    cont11  \\\n",
      "0  0.310061  0.718367  0.335060  0.30260  0.67135  0.83510  0.569745   \n",
      "1  0.885834  0.438917  0.436585  0.60087  0.35127  0.43919  0.338312   \n",
      "2  0.397069  0.289648  0.315545  0.27320  0.26076  0.32446  0.381398   \n",
      "3  0.422268  0.440945  0.391128  0.31796  0.32128  0.44467  0.327915   \n",
      "4  0.704268  0.178193  0.247408  0.24564  0.22089  0.21230  0.204687   \n",
      "\n",
      "     cont12    cont13    cont14  \n",
      "0  0.594646  0.822493  0.714843  \n",
      "1  0.366307  0.611431  0.304496  \n",
      "2  0.373424  0.195709  0.774425  \n",
      "3  0.321570  0.605077  0.602642  \n",
      "4  0.202213  0.246011  0.432606  \n",
      "\n",
      "[5 rows x 130 columns]\n",
      "130\n"
     ]
    }
   ],
   "source": [
    "from sklearn import preprocessing\n",
    "\n",
    "le = preprocessing.LabelEncoder()\n",
    "for i in range(1,117):\n",
    "    key = 'cat' + str(i)\n",
    "    if key in features.columns:\n",
    "        features[key] = le.fit_transform(features[key])\n",
    "    else:\n",
    "        break\n",
    "print features.head()\n",
    "print len(features.columns)"
   ]
  },
  {
   "cell_type": "markdown",
   "metadata": {},
   "source": [
    "### Outlier Detection"
   ]
  },
  {
   "cell_type": "raw",
   "metadata": {},
   "source": [
    "# For each feature find the data points with extreme high or low values\n",
    "for feature in log_data.keys(): \n",
    "    \n",
    "    # TODO: Calculate Q1 (25th percentile of the data) for the given feature\n",
    "    Q1 = np.percentile(log_data[feature], 25, axis=0)\n",
    "    \n",
    "    # TODO: Calculate Q3 (75th percentile of the data) for the given feature\n",
    "    Q3 = np.percentile(log_data[feature], 75, axis=0)\n",
    "   \n",
    "    # TODO: Use the interquartile range to calculate an outlier step (1.5 times the interquartile range)\n",
    "    step = 1.5 * (Q3 - Q1)\n",
    "    \n",
    "    #Print of Q1 and Q3 and Step to better understand the outliers:\n",
    "    print \"Q1:\", Q1\n",
    "    print \"Q3:\", Q3\n",
    "    print \"Step:\", step\n",
    "    \n",
    "    # Display the outliers\n",
    "    print \"Data points considered outliers for the feature '{}':\".format(feature)\n",
    "    display(log_data[~((log_data[feature] >= Q1 - step) & (log_data[feature] <= Q3 + step))])\n",
    "    \n",
    "# OPTIONAL: Select the indices for data points you wish to remove\n",
    "outliers  = [95, 338, 86, 75, 154, 325, 161, 183]\n",
    "# As this is a resubmission, I do not add the outliers I missed the first time.\n",
    "# Else I would need to run all of the following code again and potentially rewrite my Interpretations of the values.\n",
    "# I hope this is OK for the review :]\n",
    "multiple_offenders = [75,  65, 66, 128, 154]\n",
    "\n",
    "# Remove the outliers, if any were specified\n",
    "good_data = log_data.drop(log_data.index[outliers]).reset_index(drop = True)"
   ]
  },
  {
   "cell_type": "markdown",
   "metadata": {},
   "source": [
    "## Creation of Training and Testing Sets"
   ]
  },
  {
   "cell_type": "code",
   "execution_count": 12,
   "metadata": {
    "collapsed": false
   },
   "outputs": [
    {
     "name": "stdout",
     "output_type": "stream",
     "text": [
      "10000\n"
     ]
    }
   ],
   "source": [
    "from sklearn.cross_validation import train_test_split\n",
    "\n",
    "if True:\n",
    "    size = 10000\n",
    "else:\n",
    "    size = None\n",
    "print size    \n",
    "X_train, X_test, y_train, y_test = train_test_split(\n",
    "    features[:size], claims_normalized[:size], test_size=0.25, random_state=1)"
   ]
  },
  {
   "cell_type": "markdown",
   "metadata": {},
   "source": [
    "## Benchmark\n",
    "\n",
    "This is the benchmark, the models will compete against.\n",
    "The benchmark model will always predict the mean of the training set. The performance is measured with the mean absolute error as requested by the Kaggle competition."
   ]
  },
  {
   "cell_type": "code",
   "execution_count": 7,
   "metadata": {
    "collapsed": false
   },
   "outputs": [
    {
     "name": "stdout",
     "output_type": "stream",
     "text": [
      "The benchmark performance is 3,029.598\n"
     ]
    }
   ],
   "source": [
    "from sklearn.metrics import mean_absolute_error\n",
    "\n",
    "benchMAE = mean_absolute_error(y_test, np.full_like(y_test, mean_claim))\n",
    "print \"The benchmark performance is {:,.3f}\".format(benchMAE)"
   ]
  },
  {
   "cell_type": "markdown",
   "metadata": {},
   "source": [
    "## Model Creation\n",
    "### Decision Tree Regressor"
   ]
  },
  {
   "cell_type": "code",
   "execution_count": 8,
   "metadata": {
    "collapsed": false
   },
   "outputs": [
    {
     "name": "stdout",
     "output_type": "stream",
     "text": [
      "3528.1528396\n"
     ]
    }
   ],
   "source": [
    "from sklearn import tree\n",
    "clf = tree.DecisionTreeRegressor()\n",
    "\n",
    "clf.fit(X_train, y_train)\n",
    "pred = clf.predict(X_test)\n",
    "print mean_absolute_error(y_test, np.exp(pred))"
   ]
  },
  {
   "cell_type": "markdown",
   "metadata": {},
   "source": [
    "## SVM"
   ]
  },
  {
   "cell_type": "code",
   "execution_count": 13,
   "metadata": {
    "collapsed": false
   },
   "outputs": [
    {
     "name": "stdout",
     "output_type": "stream",
     "text": [
      "2329.96508347\n"
     ]
    }
   ],
   "source": [
    "from sklearn import svm\n",
    "clf = svm.SVR()\n",
    "\n",
    "clf.fit(X_train, y_train)\n",
    "pred = clf.predict(X_test)\n",
    "print mean_absolute_error(y_test, np.exp(pred))"
   ]
  },
  {
   "cell_type": "markdown",
   "metadata": {
    "collapsed": true
   },
   "source": [
    "# NOTES"
   ]
  },
  {
   "cell_type": "raw",
   "metadata": {
    "collapsed": false
   },
   "source": [
    "smallifiedFeatures = features\n",
    "for i in range(1, 78):\n",
    "    smallifiedFeatures = smallifiedFeatures.drop('cat' + str(i), axis=1)\n",
    "print smallifiedFeatures.head()"
   ]
  },
  {
   "cell_type": "raw",
   "metadata": {},
   "source": [
    "enc = preprocessing.OneHotEncoder()\n",
    "\n",
    "enc.fit_transform(features)\n",
    "\n",
    "print features.head()\n",
    "print len(features.columns)"
   ]
  }
 ],
 "metadata": {
  "anaconda-cloud": {},
  "kernelspec": {
   "display_name": "Python [conda root]",
   "language": "python",
   "name": "conda-root-py"
  },
  "language_info": {
   "codemirror_mode": {
    "name": "ipython",
    "version": 2
   },
   "file_extension": ".py",
   "mimetype": "text/x-python",
   "name": "python",
   "nbconvert_exporter": "python",
   "pygments_lexer": "ipython2",
   "version": "2.7.12"
  }
 },
 "nbformat": 4,
 "nbformat_minor": 1
}
