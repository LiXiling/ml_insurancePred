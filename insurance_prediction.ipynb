{
 "cells": [
  {
   "cell_type": "markdown",
   "metadata": {
    "collapsed": true
   },
   "source": [
    "# Insurance Claim Prediction\n"
   ]
  },
  {
   "cell_type": "markdown",
   "metadata": {},
   "source": [
    "## Load the data\n",
    "This section loads the dataset and prints the first 5 entries."
   ]
  },
  {
   "cell_type": "code",
   "execution_count": 1,
   "metadata": {
    "collapsed": false
   },
   "outputs": [
    {
     "name": "stdout",
     "output_type": "stream",
     "text": [
      "   id cat1 cat2 cat3 cat4 cat5 cat6 cat7 cat8 cat9   ...        cont6  \\\n",
      "0   1    A    B    A    B    A    A    A    A    B   ...     0.718367   \n",
      "1   2    A    B    A    A    A    A    A    A    B   ...     0.438917   \n",
      "2   5    A    B    A    A    B    A    A    A    B   ...     0.289648   \n",
      "3  10    B    B    A    B    A    A    A    A    B   ...     0.440945   \n",
      "4  11    A    B    A    B    A    A    A    A    B   ...     0.178193   \n",
      "\n",
      "      cont7    cont8    cont9   cont10    cont11    cont12    cont13  \\\n",
      "0  0.335060  0.30260  0.67135  0.83510  0.569745  0.594646  0.822493   \n",
      "1  0.436585  0.60087  0.35127  0.43919  0.338312  0.366307  0.611431   \n",
      "2  0.315545  0.27320  0.26076  0.32446  0.381398  0.373424  0.195709   \n",
      "3  0.391128  0.31796  0.32128  0.44467  0.327915  0.321570  0.605077   \n",
      "4  0.247408  0.24564  0.22089  0.21230  0.204687  0.202213  0.246011   \n",
      "\n",
      "     cont14     loss  \n",
      "0  0.714843  2213.18  \n",
      "1  0.304496  1283.60  \n",
      "2  0.774425  3005.09  \n",
      "3  0.602642   939.85  \n",
      "4  0.432606  2763.85  \n",
      "\n",
      "[5 rows x 132 columns]\n"
     ]
    }
   ],
   "source": [
    "import numpy as np\n",
    "import pandas as pd\n",
    "import matplotlib.pyplot as plt\n",
    "\n",
    "# Pretty display for notebooks\n",
    "%matplotlib inline\n",
    "\n",
    "\n",
    "# Load the provided datasets\n",
    "data = pd.read_csv('data/train.csv')\n",
    "\n",
    "# Drop 'loss' and 'id' from the feature set and save target feature 'loss' in its own variable\n",
    "claims = data['loss']\n",
    "features = data.drop(['id','loss'], axis = 1)\n",
    "\n",
    "print data.head()"
   ]
  },
  {
   "cell_type": "markdown",
   "metadata": {
    "collapsed": true
   },
   "source": [
    "## Explore the Data\n",
    "To get a better understanding of the provided data, some analysis and visualization is provided.\n",
    "### Statistical Analysis\n",
    "This section shall detail some of the statistical properties of the target feature."
   ]
  },
  {
   "cell_type": "code",
   "execution_count": null,
   "metadata": {
    "collapsed": false
   },
   "outputs": [],
   "source": [
    "#Minimum claim of the data\n",
    "minimum_claim = np.amin(claims)\n",
    "\n",
    "#Maximum claim of the data\n",
    "maximum_claim = np.amax(claims)\n",
    "\n",
    "#Mean claim of the data\n",
    "mean_claim = np.mean(claims)\n",
    "\n",
    "#Median price of the data\n",
    "median_claim = np.median(claims)\n",
    "\n",
    "#25% Quantile\n",
    "percentile_25 = np.percentile(claims, 25)\n",
    "\n",
    "#50% Percentile\n",
    "percentile_50 = np.percentile(claims, 50)\n",
    "\n",
    "#75% Quantile\n",
    "percentile_75 = np.percentile(claims, 75)\n",
    "\n",
    "#Standard deviation of the claims in the data\n",
    "std_claim = np.std(claims)\n",
    "\n",
    "# Show the calculated statistics\n",
    "print \"Statistics for Insurence claims dataset:\\n\"\n",
    "print \"Minimum claim: ${:,.2f}\".format(minimum_claim)\n",
    "print \"Maximum claim: ${:,.2f}\".format(maximum_claim)\n",
    "print \"Mean claim: ${:,.2f}\".format(mean_claim)\n",
    "print \"Median claim ${:,.2f}\".format(median_claim)\n",
    "print \"25% percentile ${:,.2f}\".format(percentile_25)\n",
    "print \"50% percentile ${:,.2f}\".format(percentile_50)\n",
    "print \"75% percentile ${:,.2f}\".format(percentile_75)\n",
    "print \"Standard deviation of claims: ${:,.2f}\".format(std_claim)"
   ]
  },
  {
   "cell_type": "markdown",
   "metadata": {},
   "source": [
    "This information helps to give context to future predictions. Also the Minimum of \\$0.67 and Maximum of \\$121,012.25, are already showing that some outliers will have to be removed."
   ]
  },
  {
   "cell_type": "markdown",
   "metadata": {},
   "source": [
    "### Visualizing the Data"
   ]
  },
  {
   "cell_type": "markdown",
   "metadata": {},
   "source": [
    "A scatterplot matrix helps to get a better understanding of the data.\n",
    "For performance reasons, the data is split to only contain the first 500 points. **It might still take a while to compute!**"
   ]
  },
  {
   "cell_type": "code",
   "execution_count": null,
   "metadata": {
    "collapsed": false
   },
   "outputs": [],
   "source": [
    "scatterdata = data[:500].drop(\"id\", axis = 1)\n",
    "\n",
    "pd.scatter_matrix(scatterdata, alpha = 0.3, figsize = (14,8), diagonal = 'kde');"
   ]
  },
  {
   "cell_type": "markdown",
   "metadata": {},
   "source": [
    "One can already see correlations, that can be used to trim down the dataset using feature selection. Most notably are cont11 <-> cont12, which seem to correlate strictly linearly. Some other correlations can also be seen, but not as clearly, like cont1 <-> cont9."
   ]
  },
  {
   "cell_type": "markdown",
   "metadata": {},
   "source": [
    "This is the scatterplot matrix over **ALL** the datapoints:"
   ]
  },
  {
   "cell_type": "markdown",
   "metadata": {},
   "source": [
    "<img src=\"files/img/scatterplot_all.png\">"
   ]
  },
  {
   "cell_type": "markdown",
   "metadata": {},
   "source": [
    " It can be produced by the following code:\n",
    "\n",
    "**THIS WILL TAKE QUITE A LONG TIME**"
   ]
  },
  {
   "cell_type": "code",
   "execution_count": null,
   "metadata": {
    "collapsed": false
   },
   "outputs": [],
   "source": [
    "#Activate if wished. Again: This will be slow\n",
    "if False:\n",
    "    pd.scatter_matrix(data.drop('id', axis = 1), alpha = 0.3, figsize = (14,8), diagonal = 'kde');"
   ]
  },
  {
   "cell_type": "markdown",
   "metadata": {},
   "source": [
    "The scatterplot matrix also shows the right skewedness of the target feature 'loss':"
   ]
  },
  {
   "cell_type": "code",
   "execution_count": null,
   "metadata": {
    "collapsed": false
   },
   "outputs": [],
   "source": [
    "claims.plot.kde()"
   ]
  },
  {
   "cell_type": "markdown",
   "metadata": {},
   "source": [
    "## Preprocessing\n",
    "### Normalization"
   ]
  },
  {
   "cell_type": "markdown",
   "metadata": {},
   "source": [
    "The target feature needs to be normalized for the regression model to yield the best results possible."
   ]
  },
  {
   "cell_type": "code",
   "execution_count": 2,
   "metadata": {
    "collapsed": true
   },
   "outputs": [],
   "source": [
    "claims_normalized = np.log(claims)"
   ]
  },
  {
   "cell_type": "markdown",
   "metadata": {},
   "source": [
    "The normalized data can then be visualized:"
   ]
  },
  {
   "cell_type": "code",
   "execution_count": null,
   "metadata": {
    "collapsed": false
   },
   "outputs": [],
   "source": [
    "claims_normalized.plot.kde()"
   ]
  },
  {
   "cell_type": "markdown",
   "metadata": {},
   "source": [
    "The categorical features need to be label encoded and then one hot encoded."
   ]
  },
  {
   "cell_type": "markdown",
   "metadata": {},
   "source": [
    "### Outlier Detection\n",
    "\n",
    "The big difference between Maximum and Minimum, and their distance to the nearest quartile already show some outliers need to be removed.\n",
    "\n",
    "The following code will remove all the data points with a bigger distance to the nearest quartile than 1.5 * the interquartile range."
   ]
  },
  {
   "cell_type": "code",
   "execution_count": 5,
   "metadata": {
    "collapsed": false
   },
   "outputs": [
    {
     "name": "stdout",
     "output_type": "stream",
     "text": [
      "Q1: 7.0937866127\n",
      "Q3: 8.25946984122\n",
      "Step: 1.74852484278\n",
      "\n",
      "Example of outliers:\n",
      "89       3.648057\n",
      "470      5.260408\n",
      "713     10.164725\n",
      "867     10.295591\n",
      "1015    10.124239\n",
      "Name: loss, dtype: float64\n",
      "\n",
      "Original data had 188318 rows. \n",
      "521 outliers were removed and good_data now holds 187797 rows\n"
     ]
    }
   ],
   "source": [
    "#USE NORMALIZED AND QUANTILE STEP!!!\n",
    "q1 = np.percentile(claims_normalized, 25)\n",
    "q3 = np.percentile(claims_normalized, 75)\n",
    "\n",
    "\n",
    "# Use the interquartile range to calculate an outlier step (1.5 times the interquartile range)\n",
    "step = 1.5 * (q3 - q1)\n",
    "\n",
    "#Print of Q1 and Q3 and Step to better understand the outliers:\n",
    "print \"Q1:\", q1\n",
    "print \"Q3:\", q3\n",
    "print \"Step:\", step\n",
    "\n",
    "log_data = pd.concat([features, claims_normalized], axis = 1)\n",
    "outliers = log_data[~((log_data['loss'] >= q1 - step) & (log_data['loss'] <= q3 + step))]\n",
    "\n",
    "print \"\\nExample of outliers:\"\n",
    "print outliers.head()['loss']\n",
    "\n",
    "# Remove the outliers. Unfortunately had problems with Dataframe Subtraction, so negated the query above\n",
    "good_data = log_data[((log_data['loss'] >= q1 - step) & (log_data['loss'] <= q3 + step))]\n",
    "\n",
    "# Save num of Records. OneHotEncoder adds several values with NaN leading to errors\n",
    "numOfRecords = good_data.shape[0]\n",
    "\n",
    "print \"\\nOriginal data had {:} rows. \\n{:} outliers were removed and good_data now holds {:} rows\".format(\n",
    "    log_data.shape[0], outliers.shape[0], numOfRecords\n",
    ")\n",
    "\n",
    "claims_clean = good_data['loss']\n",
    "features_clean = good_data.drop('loss', axis = 1)\n",
    "\n",
    "\n",
    "# Free memory\n",
    "del outliers\n",
    "del log_data"
   ]
  },
  {
   "cell_type": "markdown",
   "metadata": {},
   "source": [
    "### Label Encoding"
   ]
  },
  {
   "cell_type": "code",
   "execution_count": 7,
   "metadata": {
    "collapsed": false
   },
   "outputs": [
    {
     "name": "stdout",
     "output_type": "stream",
     "text": [
      "   cat1  cat2  cat3\n",
      "0     0     1     0\n",
      "1     0     1     0\n",
      "2     0     1     0\n",
      "3     1     1     0\n",
      "4     0     1     0\n"
     ]
    }
   ],
   "source": [
    "from sklearn import preprocessing\n",
    "\n",
    "le = preprocessing.LabelEncoder()\n",
    "# Label Encode all the categorical features\n",
    "for i in range(1,130):\n",
    "    key = 'cat' + str(i)\n",
    "    #Failsafe IF-Clause for column adressing\n",
    "    if key in features_clean.columns:\n",
    "        features_clean[key] = le.fit_transform(features_clean[key])\n",
    "    else:\n",
    "        break\n",
    "        \n",
    "print features_clean.head()[['cat1','cat2','cat3']]"
   ]
  },
  {
   "cell_type": "markdown",
   "metadata": {},
   "source": [
    "## Onehot Encoding"
   ]
  },
  {
   "cell_type": "code",
   "execution_count": 8,
   "metadata": {
    "collapsed": false,
    "scrolled": true
   },
   "outputs": [
    {
     "name": "stdout",
     "output_type": "stream",
     "text": [
      "   0     1     2     3     4     5     6     7     8     9     ...   1124  \\\n",
      "0   1.0   0.0   0.0   1.0   1.0   0.0   0.0   1.0   1.0   0.0  ...    0.0   \n",
      "1   1.0   0.0   0.0   1.0   1.0   0.0   1.0   0.0   1.0   0.0  ...    0.0   \n",
      "2   1.0   0.0   0.0   1.0   1.0   0.0   1.0   0.0   0.0   1.0  ...    0.0   \n",
      "3   0.0   1.0   0.0   1.0   1.0   0.0   0.0   1.0   1.0   0.0  ...    0.0   \n",
      "4   1.0   0.0   0.0   1.0   1.0   0.0   0.0   1.0   1.0   0.0  ...    0.0   \n",
      "\n",
      "   1125  1126  1127  1128  1129  1130  1131  1132  1133  \n",
      "0   0.0   0.0   0.0   0.0   0.0   0.0   0.0   0.0   0.0  \n",
      "1   0.0   0.0   0.0   0.0   0.0   0.0   0.0   0.0   0.0  \n",
      "2   0.0   0.0   0.0   0.0   0.0   0.0   0.0   0.0   0.0  \n",
      "3   0.0   0.0   0.0   0.0   0.0   0.0   0.0   0.0   0.0  \n",
      "4   0.0   0.0   0.0   0.0   0.0   0.0   0.0   0.0   0.0  \n",
      "\n",
      "[5 rows x 1134 columns]\n",
      "        0     1     2     3     4     5     6     7     8     9     ...   \\\n",
      "187792   1.0   0.0   0.0   1.0   1.0   0.0   1.0   0.0   1.0   0.0  ...    \n",
      "187793   1.0   0.0   1.0   0.0   1.0   0.0   1.0   0.0   1.0   0.0  ...    \n",
      "187794   1.0   0.0   0.0   1.0   1.0   0.0   1.0   0.0   1.0   0.0  ...    \n",
      "187795   1.0   0.0   0.0   1.0   1.0   0.0   1.0   0.0   1.0   0.0  ...    \n",
      "187796   0.0   1.0   1.0   0.0   1.0   0.0   0.0   1.0   1.0   0.0  ...    \n",
      "\n",
      "        1124  1125  1126  1127  1128  1129  1130  1131  1132  1133  \n",
      "187792   0.0   0.0   0.0   0.0   0.0   0.0   0.0   0.0   0.0   0.0  \n",
      "187793   0.0   0.0   0.0   0.0   0.0   0.0   0.0   0.0   0.0   0.0  \n",
      "187794   0.0   0.0   0.0   0.0   0.0   0.0   0.0   0.0   0.0   0.0  \n",
      "187795   0.0   0.0   0.0   0.0   0.0   0.0   0.0   0.0   0.0   0.0  \n",
      "187796   0.0   0.0   0.0   0.0   0.0   0.0   0.0   0.0   0.0   0.0  \n",
      "\n",
      "[5 rows x 1134 columns]\n"
     ]
    }
   ],
   "source": [
    "# Make Encoder\n",
    "enc = preprocessing.OneHotEncoder()\n",
    "\n",
    "#Split Categorical Columns\n",
    "#print features_clean.iloc[:,0:116].head()\n",
    "catF = features_clean.iloc[:,0:116]\n",
    "#print catF.shape\n",
    "#Fit Categorigal Columns\n",
    "enc.fit(catF)\n",
    "\n",
    "#Encode Categorical Columns\n",
    "catEnc = enc.transform(catF).toarray()\n",
    "catEnc = pd.DataFrame(catEnc)\n",
    "#print catEnc.shape\n",
    "#catEnc2 = pd.concat([catEnc, pd.DataFrame(enc.transform(catF.iloc[90001:]).toarray())], axis = 0)\n",
    "#catEnc2 = pd.DataFrame(enc.transform(catF.iloc[90001:]).toarray())\n",
    "print catEnc.head()\n",
    "print catEnc.tail()\n",
    "\n",
    "# Concatinate Categorical and Continous Columns\n",
    "features_encoded = pd.concat([catEnc, features_clean.iloc[:,117:]], axis = 1)[:numOfRecords]\n",
    "#print features_encoded.head()"
   ]
  },
  {
   "cell_type": "code",
   "execution_count": 14,
   "metadata": {
    "collapsed": false
   },
   "outputs": [
    {
     "name": "stdout",
     "output_type": "stream",
     "text": [
      "     0    1    2    3    4    5    6    7    8    9    ...        cont5  \\\n",
      "0  1.0  0.0  0.0  1.0  1.0  0.0  0.0  1.0  1.0  0.0    ...     0.310061   \n",
      "1  1.0  0.0  0.0  1.0  1.0  0.0  1.0  0.0  1.0  0.0    ...     0.885834   \n",
      "2  1.0  0.0  0.0  1.0  1.0  0.0  1.0  0.0  0.0  1.0    ...     0.397069   \n",
      "3  0.0  1.0  0.0  1.0  1.0  0.0  0.0  1.0  1.0  0.0    ...     0.422268   \n",
      "4  1.0  0.0  0.0  1.0  1.0  0.0  0.0  1.0  1.0  0.0    ...     0.704268   \n",
      "\n",
      "      cont6     cont7    cont8    cont9   cont10    cont11    cont12  \\\n",
      "0  0.718367  0.335060  0.30260  0.67135  0.83510  0.569745  0.594646   \n",
      "1  0.438917  0.436585  0.60087  0.35127  0.43919  0.338312  0.366307   \n",
      "2  0.289648  0.315545  0.27320  0.26076  0.32446  0.381398  0.373424   \n",
      "3  0.440945  0.391128  0.31796  0.32128  0.44467  0.327915  0.321570   \n",
      "4  0.178193  0.247408  0.24564  0.22089  0.21230  0.204687  0.202213   \n",
      "\n",
      "     cont13    cont14  \n",
      "0  0.822493  0.714843  \n",
      "1  0.611431  0.304496  \n",
      "2  0.195709  0.774425  \n",
      "3  0.605077  0.602642  \n",
      "4  0.246011  0.432606  \n",
      "\n",
      "[5 rows x 1147 columns]\n",
      "          0    1    2    3    4    5    6    7    8    9    ...        cont5  \\\n",
      "187792  1.0  0.0  0.0  1.0  1.0  0.0  1.0  0.0  1.0  0.0    ...     0.811271   \n",
      "187793  1.0  0.0  1.0  0.0  1.0  0.0  1.0  0.0  1.0  0.0    ...     0.594196   \n",
      "187794  1.0  0.0  0.0  1.0  1.0  0.0  1.0  0.0  1.0  0.0    ...     0.800402   \n",
      "187795  1.0  0.0  0.0  1.0  1.0  0.0  1.0  0.0  1.0  0.0    ...     0.577339   \n",
      "187796  0.0  1.0  1.0  0.0  1.0  0.0  0.0  1.0  1.0  0.0    ...     0.913847   \n",
      "\n",
      "           cont6     cont7    cont8    cont9   cont10    cont11    cont12  \\\n",
      "187792  0.416181  0.402349  0.62918  0.50630  0.37493  0.338312  0.331643   \n",
      "187793  0.277229  0.354342  0.26847  0.39447  0.37493  0.260140  0.255941   \n",
      "187794  0.836365  0.668393  0.68823  0.62542  0.80218  0.715131  0.708275   \n",
      "187795  0.255632  0.291782  0.44697  0.24958  0.26029  0.180456  0.178698   \n",
      "187796  0.375429  0.389249  0.41182  0.42289  0.45017  0.341813  0.335036   \n",
      "\n",
      "          cont13    cont14  \n",
      "187792  0.315758  0.814499  \n",
      "187793  0.310026  0.294576  \n",
      "187794  0.789182  0.361475  \n",
      "187795  0.372852  0.290329  \n",
      "187796  0.382252  0.259473  \n",
      "\n",
      "[5 rows x 1147 columns]\n",
      "(187797, 1134)\n",
      "(187797, 130)\n",
      "(187797, 1147)\n",
      "6773\n"
     ]
    }
   ],
   "source": [
    "print features_encoded.head()\n",
    "print features_encoded.tail()\n",
    "\n",
    "print catEnc.shape\n",
    "print features_clean.shape\n",
    "print features_encoded.shape\n",
    "\n",
    "# Check for NaN Values\n",
    "print features_encoded.isnull().sum().sum()\n",
    "#print features_encoded.isnull()"
   ]
  },
  {
   "cell_type": "markdown",
   "metadata": {},
   "source": [
    "### Dimensionality Reduction"
   ]
  },
  {
   "cell_type": "code",
   "execution_count": 10,
   "metadata": {
    "collapsed": false
   },
   "outputs": [
    {
     "ename": "ValueError",
     "evalue": "Input contains NaN, infinity or a value too large for dtype('float64').",
     "output_type": "error",
     "traceback": [
      "\u001b[0;31m---------------------------------------------------------------------------\u001b[0m",
      "\u001b[0;31mValueError\u001b[0m                                Traceback (most recent call last)",
      "\u001b[0;32m<ipython-input-10-116de82f2cec>\u001b[0m in \u001b[0;36m<module>\u001b[0;34m()\u001b[0m\n\u001b[1;32m      1\u001b[0m \u001b[1;31m# Apply PCA by fitting the reduced data\u001b[0m\u001b[1;33m\u001b[0m\u001b[1;33m\u001b[0m\u001b[0m\n\u001b[1;32m      2\u001b[0m \u001b[1;32mfrom\u001b[0m \u001b[0msklearn\u001b[0m\u001b[1;33m.\u001b[0m\u001b[0mdecomposition\u001b[0m \u001b[1;32mimport\u001b[0m \u001b[0mPCA\u001b[0m\u001b[1;33m\u001b[0m\u001b[0m\n\u001b[0;32m----> 3\u001b[0;31m \u001b[0mpca\u001b[0m \u001b[1;33m=\u001b[0m \u001b[0mPCA\u001b[0m\u001b[1;33m(\u001b[0m\u001b[0mn_components\u001b[0m\u001b[1;33m=\u001b[0m\u001b[1;36m5\u001b[0m\u001b[1;33m)\u001b[0m\u001b[1;33m.\u001b[0m\u001b[0mfit\u001b[0m\u001b[1;33m(\u001b[0m\u001b[0mfeatures_encoded\u001b[0m\u001b[1;33m)\u001b[0m\u001b[1;33m\u001b[0m\u001b[0m\n\u001b[0m\u001b[1;32m      4\u001b[0m \u001b[0mreduced_data\u001b[0m \u001b[1;33m=\u001b[0m \u001b[0mpca\u001b[0m\u001b[1;33m.\u001b[0m\u001b[0mtransform\u001b[0m\u001b[1;33m(\u001b[0m\u001b[0mfeatures_encoded\u001b[0m\u001b[1;33m)\u001b[0m\u001b[1;33m\u001b[0m\u001b[0m\n\u001b[1;32m      5\u001b[0m \u001b[1;33m\u001b[0m\u001b[0m\n",
      "\u001b[0;32mC:\\Program Files\\Anaconda2\\lib\\site-packages\\sklearn\\decomposition\\pca.pyc\u001b[0m in \u001b[0;36mfit\u001b[0;34m(self, X, y)\u001b[0m\n\u001b[1;32m    222\u001b[0m             \u001b[0mReturns\u001b[0m \u001b[0mthe\u001b[0m \u001b[0minstance\u001b[0m \u001b[0mitself\u001b[0m\u001b[1;33m.\u001b[0m\u001b[1;33m\u001b[0m\u001b[0m\n\u001b[1;32m    223\u001b[0m         \"\"\"\n\u001b[0;32m--> 224\u001b[0;31m         \u001b[0mself\u001b[0m\u001b[1;33m.\u001b[0m\u001b[0m_fit\u001b[0m\u001b[1;33m(\u001b[0m\u001b[0mX\u001b[0m\u001b[1;33m)\u001b[0m\u001b[1;33m\u001b[0m\u001b[0m\n\u001b[0m\u001b[1;32m    225\u001b[0m         \u001b[1;32mreturn\u001b[0m \u001b[0mself\u001b[0m\u001b[1;33m\u001b[0m\u001b[0m\n\u001b[1;32m    226\u001b[0m \u001b[1;33m\u001b[0m\u001b[0m\n",
      "\u001b[0;32mC:\\Program Files\\Anaconda2\\lib\\site-packages\\sklearn\\decomposition\\pca.pyc\u001b[0m in \u001b[0;36m_fit\u001b[0;34m(self, X)\u001b[0m\n\u001b[1;32m    266\u001b[0m             \u001b[0mrequested\u001b[0m\u001b[1;33m.\u001b[0m\u001b[1;33m\u001b[0m\u001b[0m\n\u001b[1;32m    267\u001b[0m         \"\"\"\n\u001b[0;32m--> 268\u001b[0;31m         \u001b[0mX\u001b[0m \u001b[1;33m=\u001b[0m \u001b[0mcheck_array\u001b[0m\u001b[1;33m(\u001b[0m\u001b[0mX\u001b[0m\u001b[1;33m)\u001b[0m\u001b[1;33m\u001b[0m\u001b[0m\n\u001b[0m\u001b[1;32m    269\u001b[0m         \u001b[0mn_samples\u001b[0m\u001b[1;33m,\u001b[0m \u001b[0mn_features\u001b[0m \u001b[1;33m=\u001b[0m \u001b[0mX\u001b[0m\u001b[1;33m.\u001b[0m\u001b[0mshape\u001b[0m\u001b[1;33m\u001b[0m\u001b[0m\n\u001b[1;32m    270\u001b[0m         \u001b[0mX\u001b[0m \u001b[1;33m=\u001b[0m \u001b[0mas_float_array\u001b[0m\u001b[1;33m(\u001b[0m\u001b[0mX\u001b[0m\u001b[1;33m,\u001b[0m \u001b[0mcopy\u001b[0m\u001b[1;33m=\u001b[0m\u001b[0mself\u001b[0m\u001b[1;33m.\u001b[0m\u001b[0mcopy\u001b[0m\u001b[1;33m)\u001b[0m\u001b[1;33m\u001b[0m\u001b[0m\n",
      "\u001b[0;32mC:\\Program Files\\Anaconda2\\lib\\site-packages\\sklearn\\utils\\validation.pyc\u001b[0m in \u001b[0;36mcheck_array\u001b[0;34m(array, accept_sparse, dtype, order, copy, force_all_finite, ensure_2d, allow_nd, ensure_min_samples, ensure_min_features, warn_on_dtype, estimator)\u001b[0m\n\u001b[1;32m    396\u001b[0m                              % (array.ndim, estimator_name))\n\u001b[1;32m    397\u001b[0m         \u001b[1;32mif\u001b[0m \u001b[0mforce_all_finite\u001b[0m\u001b[1;33m:\u001b[0m\u001b[1;33m\u001b[0m\u001b[0m\n\u001b[0;32m--> 398\u001b[0;31m             \u001b[0m_assert_all_finite\u001b[0m\u001b[1;33m(\u001b[0m\u001b[0marray\u001b[0m\u001b[1;33m)\u001b[0m\u001b[1;33m\u001b[0m\u001b[0m\n\u001b[0m\u001b[1;32m    399\u001b[0m \u001b[1;33m\u001b[0m\u001b[0m\n\u001b[1;32m    400\u001b[0m     \u001b[0mshape_repr\u001b[0m \u001b[1;33m=\u001b[0m \u001b[0m_shape_repr\u001b[0m\u001b[1;33m(\u001b[0m\u001b[0marray\u001b[0m\u001b[1;33m.\u001b[0m\u001b[0mshape\u001b[0m\u001b[1;33m)\u001b[0m\u001b[1;33m\u001b[0m\u001b[0m\n",
      "\u001b[0;32mC:\\Program Files\\Anaconda2\\lib\\site-packages\\sklearn\\utils\\validation.pyc\u001b[0m in \u001b[0;36m_assert_all_finite\u001b[0;34m(X)\u001b[0m\n\u001b[1;32m     52\u001b[0m             and not np.isfinite(X).all()):\n\u001b[1;32m     53\u001b[0m         raise ValueError(\"Input contains NaN, infinity\"\n\u001b[0;32m---> 54\u001b[0;31m                          \" or a value too large for %r.\" % X.dtype)\n\u001b[0m\u001b[1;32m     55\u001b[0m \u001b[1;33m\u001b[0m\u001b[0m\n\u001b[1;32m     56\u001b[0m \u001b[1;33m\u001b[0m\u001b[0m\n",
      "\u001b[0;31mValueError\u001b[0m: Input contains NaN, infinity or a value too large for dtype('float64')."
     ]
    }
   ],
   "source": [
    "# Apply PCA by fitting the reduced data\n",
    "from sklearn.decomposition import PCA\n",
    "pca = PCA(n_components=5).fit(features_encoded)\n",
    "reduced_data = pca.transform(features_encoded)\n",
    "\n",
    "print pca.explained_variance_ratio_"
   ]
  },
  {
   "cell_type": "markdown",
   "metadata": {},
   "source": [
    "## Creation of Training and Testing Sets"
   ]
  },
  {
   "cell_type": "code",
   "execution_count": null,
   "metadata": {
    "collapsed": false
   },
   "outputs": [],
   "source": [
    "from sklearn.cross_validation import train_test_split\n",
    "\n",
    "#Simple Switch to influence testing set size for performance\n",
    "if True:\n",
    "    size = 20000\n",
    "else:\n",
    "    size = None\n",
    "    \n",
    "X_train, X_test, y_train, y_test = train_test_split(\n",
    "    reduced_data[:size], claims_clean[:size], test_size=0.25, random_state=1)"
   ]
  },
  {
   "cell_type": "markdown",
   "metadata": {},
   "source": [
    "## Scorer Function\n",
    "\n",
    "As I work with normalized log(data), define a custome scoring function with integrated np.exp()"
   ]
  },
  {
   "cell_type": "code",
   "execution_count": null,
   "metadata": {
    "collapsed": true
   },
   "outputs": [],
   "source": [
    "from sklearn.metrics import mean_absolute_error\n",
    "\n",
    "def scorerFunc(test, pred):\n",
    "    return mean_absolute_error(np.exp(test), np.exp(pred))"
   ]
  },
  {
   "cell_type": "markdown",
   "metadata": {},
   "source": [
    "## Benchmark\n",
    "\n",
    "This is the benchmark, the models will compete against.\n",
    "The benchmark model will always predict the mean of the training set. The performance is measured with the mean absolute error as requested by the Kaggle competition."
   ]
  },
  {
   "cell_type": "code",
   "execution_count": null,
   "metadata": {
    "collapsed": false
   },
   "outputs": [],
   "source": [
    "benchMAE = scorerFunc(y_test, np.full_like(y_test, np.mean(y_train)))\n",
    "print \"The benchmark performance is {:}\".format(benchMAE)"
   ]
  },
  {
   "cell_type": "markdown",
   "metadata": {},
   "source": [
    "## Model Creation\n",
    "### Decision Tree Regressor"
   ]
  },
  {
   "cell_type": "code",
   "execution_count": null,
   "metadata": {
    "collapsed": false
   },
   "outputs": [],
   "source": [
    "from sklearn import tree\n",
    "clf = tree.DecisionTreeRegressor()\n",
    "\n",
    "clf.fit(X_train, y_train)\n",
    "pred = clf.predict(X_test)\n",
    "print scorerFunc(y_test, pred)"
   ]
  },
  {
   "cell_type": "markdown",
   "metadata": {},
   "source": [
    "## SVM"
   ]
  },
  {
   "cell_type": "code",
   "execution_count": null,
   "metadata": {
    "collapsed": false
   },
   "outputs": [],
   "source": [
    "from sklearn import svm\n",
    "clf = svm.SVR()\n",
    "\n",
    "clf.fit(X_train, y_train)\n",
    "pred = clf.predict(X_test)\n",
    "print scorerFunc(y_test, pred)"
   ]
  },
  {
   "cell_type": "markdown",
   "metadata": {
    "collapsed": true
   },
   "source": [
    "# NOTES"
   ]
  },
  {
   "cell_type": "raw",
   "metadata": {
    "collapsed": false
   },
   "source": [
    "smallifiedFeatures = features\n",
    "for i in range(1, 78):\n",
    "    smallifiedFeatures = smallifiedFeatures.drop('cat' + str(i), axis=1)\n",
    "print smallifiedFeatures.head()"
   ]
  },
  {
   "cell_type": "raw",
   "metadata": {},
   "source": [
    "enc = preprocessing.OneHotEncoder()\n",
    "\n",
    "trans = enc.fit_transform(features_clean[['cat1','cat116']])\n",
    "\n",
    "print features_clean.head()\n",
    "print trans\n",
    "print len(features_clean.columns)"
   ]
  },
  {
   "cell_type": "code",
   "execution_count": null,
   "metadata": {
    "collapsed": true
   },
   "outputs": [],
   "source": []
  }
 ],
 "metadata": {
  "anaconda-cloud": {},
  "kernelspec": {
   "display_name": "Python [conda root]",
   "language": "python",
   "name": "conda-root-py"
  },
  "language_info": {
   "codemirror_mode": {
    "name": "ipython",
    "version": 2
   },
   "file_extension": ".py",
   "mimetype": "text/x-python",
   "name": "python",
   "nbconvert_exporter": "python",
   "pygments_lexer": "ipython2",
   "version": "2.7.12"
  }
 },
 "nbformat": 4,
 "nbformat_minor": 1
}
